{
 "cells": [
  {
   "cell_type": "code",
   "execution_count": 76,
   "id": "c35ac5fa",
   "metadata": {},
   "outputs": [],
   "source": [
    "import glob \n",
    "import pandas as pd\n",
    "from bs4 import BeautifulSoup\n",
    "import requests \n",
    "import numpy as np\n",
    "from datetime import datetime\n",
    "import sqlite3"
   ]
  },
  {
   "cell_type": "code",
   "execution_count": 77,
   "id": "ea78f9d8",
   "metadata": {},
   "outputs": [],
   "source": [
    "url='https://web.archive.org/web/20230908091635 /https://en.wikipedia.org/wiki/List_of_largest_banks'\n",
    "table_Attributes=['Name','MC_USD_Billion','MC_GBP_Billion','MC_EUR_Billion','MC_INR_Billion']\n",
    "df = pd.DataFrame(columns=table_Attributes)\n",
    "table_name = 'Largest_banks'\n",
    "csv_path = './BAnks.csv'\n"
   ]
  },
  {
   "cell_type": "code",
   "execution_count": 78,
   "id": "1d878e58",
   "metadata": {},
   "outputs": [],
   "source": [
    "def extract(url, table_Attributes):\n",
    "    page = requests.get(url).text\n",
    "    data = BeautifulSoup(page,'html.parser')\n",
    "    df = pd.DataFrame(columns=table_Attributes)\n",
    "    tables = data.find_all('table')\n",
    "    rows = tables[0].find_all('tr')\n",
    "    for row in rows:\n",
    "        col = row.find_all('td')\n",
    "        if len(col)!=0:\n",
    "            data_dict = {\"Name\": col[1].get_text(strip=True),\n",
    "                             \"MC_USD_Billion\": col[2].get_text(strip=True)}\n",
    "            df1 = pd.DataFrame(data_dict, index=[0])\n",
    "            df = pd.concat([df,df1], ignore_index=True)\n",
    "    return df\n"
   ]
  },
  {
   "cell_type": "code",
   "execution_count": 91,
   "id": "6aae2f3b",
   "metadata": {},
   "outputs": [
    {
     "data": {
      "application/vnd.microsoft.datawrangler.viewer.v0+json": {
       "columns": [
        {
         "name": "index",
         "rawType": "int64",
         "type": "integer"
        },
        {
         "name": "Name",
         "rawType": "object",
         "type": "string"
        },
        {
         "name": "MC_USD_Billion",
         "rawType": "object",
         "type": "string"
        },
        {
         "name": "MC_GBP_Billion",
         "rawType": "object",
         "type": "unknown"
        },
        {
         "name": "MC_EUR_Billion",
         "rawType": "object",
         "type": "unknown"
        },
        {
         "name": "MC_INR_Billion",
         "rawType": "object",
         "type": "unknown"
        }
       ],
       "ref": "cfdc780d-c34f-44ec-b057-c7570f4406d9",
       "rows": [
        [
         "0",
         "JPMorgan Chase",
         "432.92",
         null,
         null,
         null
        ],
        [
         "1",
         "Bank of America",
         "231.52",
         null,
         null,
         null
        ],
        [
         "2",
         "Industrial and Commercial Bank of China",
         "194.56",
         null,
         null,
         null
        ],
        [
         "3",
         "Agricultural Bank of China",
         "160.68",
         null,
         null,
         null
        ],
        [
         "4",
         "HDFC Bank",
         "157.91",
         null,
         null,
         null
        ],
        [
         "5",
         "Wells Fargo",
         "155.87",
         null,
         null,
         null
        ],
        [
         "6",
         "HSBC Holdings PLC",
         "148.90",
         null,
         null,
         null
        ],
        [
         "7",
         "Morgan Stanley",
         "140.83",
         null,
         null,
         null
        ],
        [
         "8",
         "China Construction Bank",
         "139.82",
         null,
         null,
         null
        ],
        [
         "9",
         "Bank of China",
         "136.81",
         null,
         null,
         null
        ]
       ],
       "shape": {
        "columns": 5,
        "rows": 10
       }
      },
      "text/html": [
       "<div>\n",
       "<style scoped>\n",
       "    .dataframe tbody tr th:only-of-type {\n",
       "        vertical-align: middle;\n",
       "    }\n",
       "\n",
       "    .dataframe tbody tr th {\n",
       "        vertical-align: top;\n",
       "    }\n",
       "\n",
       "    .dataframe thead th {\n",
       "        text-align: right;\n",
       "    }\n",
       "</style>\n",
       "<table border=\"1\" class=\"dataframe\">\n",
       "  <thead>\n",
       "    <tr style=\"text-align: right;\">\n",
       "      <th></th>\n",
       "      <th>Name</th>\n",
       "      <th>MC_USD_Billion</th>\n",
       "      <th>MC_GBP_Billion</th>\n",
       "      <th>MC_EUR_Billion</th>\n",
       "      <th>MC_INR_Billion</th>\n",
       "    </tr>\n",
       "  </thead>\n",
       "  <tbody>\n",
       "    <tr>\n",
       "      <th>0</th>\n",
       "      <td>JPMorgan Chase</td>\n",
       "      <td>432.92</td>\n",
       "      <td>NaN</td>\n",
       "      <td>NaN</td>\n",
       "      <td>NaN</td>\n",
       "    </tr>\n",
       "    <tr>\n",
       "      <th>1</th>\n",
       "      <td>Bank of America</td>\n",
       "      <td>231.52</td>\n",
       "      <td>NaN</td>\n",
       "      <td>NaN</td>\n",
       "      <td>NaN</td>\n",
       "    </tr>\n",
       "    <tr>\n",
       "      <th>2</th>\n",
       "      <td>Industrial and Commercial Bank of China</td>\n",
       "      <td>194.56</td>\n",
       "      <td>NaN</td>\n",
       "      <td>NaN</td>\n",
       "      <td>NaN</td>\n",
       "    </tr>\n",
       "    <tr>\n",
       "      <th>3</th>\n",
       "      <td>Agricultural Bank of China</td>\n",
       "      <td>160.68</td>\n",
       "      <td>NaN</td>\n",
       "      <td>NaN</td>\n",
       "      <td>NaN</td>\n",
       "    </tr>\n",
       "    <tr>\n",
       "      <th>4</th>\n",
       "      <td>HDFC Bank</td>\n",
       "      <td>157.91</td>\n",
       "      <td>NaN</td>\n",
       "      <td>NaN</td>\n",
       "      <td>NaN</td>\n",
       "    </tr>\n",
       "    <tr>\n",
       "      <th>5</th>\n",
       "      <td>Wells Fargo</td>\n",
       "      <td>155.87</td>\n",
       "      <td>NaN</td>\n",
       "      <td>NaN</td>\n",
       "      <td>NaN</td>\n",
       "    </tr>\n",
       "    <tr>\n",
       "      <th>6</th>\n",
       "      <td>HSBC Holdings PLC</td>\n",
       "      <td>148.90</td>\n",
       "      <td>NaN</td>\n",
       "      <td>NaN</td>\n",
       "      <td>NaN</td>\n",
       "    </tr>\n",
       "    <tr>\n",
       "      <th>7</th>\n",
       "      <td>Morgan Stanley</td>\n",
       "      <td>140.83</td>\n",
       "      <td>NaN</td>\n",
       "      <td>NaN</td>\n",
       "      <td>NaN</td>\n",
       "    </tr>\n",
       "    <tr>\n",
       "      <th>8</th>\n",
       "      <td>China Construction Bank</td>\n",
       "      <td>139.82</td>\n",
       "      <td>NaN</td>\n",
       "      <td>NaN</td>\n",
       "      <td>NaN</td>\n",
       "    </tr>\n",
       "    <tr>\n",
       "      <th>9</th>\n",
       "      <td>Bank of China</td>\n",
       "      <td>136.81</td>\n",
       "      <td>NaN</td>\n",
       "      <td>NaN</td>\n",
       "      <td>NaN</td>\n",
       "    </tr>\n",
       "  </tbody>\n",
       "</table>\n",
       "</div>"
      ],
      "text/plain": [
       "                                      Name MC_USD_Billion MC_GBP_Billion  \\\n",
       "0                           JPMorgan Chase         432.92            NaN   \n",
       "1                          Bank of America         231.52            NaN   \n",
       "2  Industrial and Commercial Bank of China         194.56            NaN   \n",
       "3               Agricultural Bank of China         160.68            NaN   \n",
       "4                                HDFC Bank         157.91            NaN   \n",
       "5                              Wells Fargo         155.87            NaN   \n",
       "6                        HSBC Holdings PLC         148.90            NaN   \n",
       "7                           Morgan Stanley         140.83            NaN   \n",
       "8                  China Construction Bank         139.82            NaN   \n",
       "9                            Bank of China         136.81            NaN   \n",
       "\n",
       "  MC_EUR_Billion MC_INR_Billion  \n",
       "0            NaN            NaN  \n",
       "1            NaN            NaN  \n",
       "2            NaN            NaN  \n",
       "3            NaN            NaN  \n",
       "4            NaN            NaN  \n",
       "5            NaN            NaN  \n",
       "6            NaN            NaN  \n",
       "7            NaN            NaN  \n",
       "8            NaN            NaN  \n",
       "9            NaN            NaN  "
      ]
     },
     "execution_count": 91,
     "metadata": {},
     "output_type": "execute_result"
    }
   ],
   "source": [
    "extract(url,table_Attributes)\n"
   ]
  },
  {
   "cell_type": "code",
   "execution_count": 80,
   "id": "6345cad0",
   "metadata": {},
   "outputs": [],
   "source": [
    "def transform(df):\n",
    "    MC_USD_list = df[\"MC_USD_Billion\"].tolist()\n",
    "    MC_USD_list= [float(x) for x in MC_USD_list]\n",
    "    MC_USD_list1 = [np.round(x*0.93,2) for x in MC_USD_list]\n",
    "    df[\"MC_EUR_Billion\"] = MC_USD_list1\n",
    "    MC_USD_list2= [np.round(x*0.8295,2) for x in MC_USD_list]\n",
    "    df[\"MC_INR_Billion\"] = MC_USD_list2\n",
    "    MC_USD_list3= [np.round(x*0.8,2) for x in MC_USD_list]\n",
    "    df[\"MC_GBP_Billion\"] = MC_USD_list3\n",
    "    return df\n"
   ]
  },
  {
   "cell_type": "code",
   "execution_count": 81,
   "id": "0dae71a2",
   "metadata": {},
   "outputs": [
    {
     "data": {
      "application/vnd.microsoft.datawrangler.viewer.v0+json": {
       "columns": [
        {
         "name": "index",
         "rawType": "int64",
         "type": "integer"
        },
        {
         "name": "Name",
         "rawType": "object",
         "type": "string"
        },
        {
         "name": "MC_USD_Billion",
         "rawType": "object",
         "type": "string"
        },
        {
         "name": "MC_GBP_Billion",
         "rawType": "float64",
         "type": "float"
        },
        {
         "name": "MC_EUR_Billion",
         "rawType": "float64",
         "type": "float"
        },
        {
         "name": "MC_INR_Billion",
         "rawType": "float64",
         "type": "float"
        }
       ],
       "ref": "dd79adc7-af11-404e-bc49-8f4abf8aeb2b",
       "rows": [
        [
         "0",
         "JPMorgan Chase",
         "432.92",
         "346.34",
         "402.62",
         "359.11"
        ],
        [
         "1",
         "Bank of America",
         "231.52",
         "185.22",
         "215.31",
         "192.05"
        ],
        [
         "2",
         "Industrial and Commercial Bank of China",
         "194.56",
         "155.65",
         "180.94",
         "161.39"
        ],
        [
         "3",
         "Agricultural Bank of China",
         "160.68",
         "128.54",
         "149.43",
         "133.28"
        ],
        [
         "4",
         "HDFC Bank",
         "157.91",
         "126.33",
         "146.86",
         "130.99"
        ],
        [
         "5",
         "Wells Fargo",
         "155.87",
         "124.7",
         "144.96",
         "129.29"
        ],
        [
         "6",
         "HSBC Holdings PLC",
         "148.90",
         "119.12",
         "138.48",
         "123.51"
        ],
        [
         "7",
         "Morgan Stanley",
         "140.83",
         "112.66",
         "130.97",
         "116.82"
        ],
        [
         "8",
         "China Construction Bank",
         "139.82",
         "111.86",
         "130.03",
         "115.98"
        ],
        [
         "9",
         "Bank of China",
         "136.81",
         "109.45",
         "127.23",
         "113.48"
        ]
       ],
       "shape": {
        "columns": 5,
        "rows": 10
       }
      },
      "text/html": [
       "<div>\n",
       "<style scoped>\n",
       "    .dataframe tbody tr th:only-of-type {\n",
       "        vertical-align: middle;\n",
       "    }\n",
       "\n",
       "    .dataframe tbody tr th {\n",
       "        vertical-align: top;\n",
       "    }\n",
       "\n",
       "    .dataframe thead th {\n",
       "        text-align: right;\n",
       "    }\n",
       "</style>\n",
       "<table border=\"1\" class=\"dataframe\">\n",
       "  <thead>\n",
       "    <tr style=\"text-align: right;\">\n",
       "      <th></th>\n",
       "      <th>Name</th>\n",
       "      <th>MC_USD_Billion</th>\n",
       "      <th>MC_GBP_Billion</th>\n",
       "      <th>MC_EUR_Billion</th>\n",
       "      <th>MC_INR_Billion</th>\n",
       "    </tr>\n",
       "  </thead>\n",
       "  <tbody>\n",
       "    <tr>\n",
       "      <th>0</th>\n",
       "      <td>JPMorgan Chase</td>\n",
       "      <td>432.92</td>\n",
       "      <td>346.34</td>\n",
       "      <td>402.62</td>\n",
       "      <td>359.11</td>\n",
       "    </tr>\n",
       "    <tr>\n",
       "      <th>1</th>\n",
       "      <td>Bank of America</td>\n",
       "      <td>231.52</td>\n",
       "      <td>185.22</td>\n",
       "      <td>215.31</td>\n",
       "      <td>192.05</td>\n",
       "    </tr>\n",
       "    <tr>\n",
       "      <th>2</th>\n",
       "      <td>Industrial and Commercial Bank of China</td>\n",
       "      <td>194.56</td>\n",
       "      <td>155.65</td>\n",
       "      <td>180.94</td>\n",
       "      <td>161.39</td>\n",
       "    </tr>\n",
       "    <tr>\n",
       "      <th>3</th>\n",
       "      <td>Agricultural Bank of China</td>\n",
       "      <td>160.68</td>\n",
       "      <td>128.54</td>\n",
       "      <td>149.43</td>\n",
       "      <td>133.28</td>\n",
       "    </tr>\n",
       "    <tr>\n",
       "      <th>4</th>\n",
       "      <td>HDFC Bank</td>\n",
       "      <td>157.91</td>\n",
       "      <td>126.33</td>\n",
       "      <td>146.86</td>\n",
       "      <td>130.99</td>\n",
       "    </tr>\n",
       "    <tr>\n",
       "      <th>5</th>\n",
       "      <td>Wells Fargo</td>\n",
       "      <td>155.87</td>\n",
       "      <td>124.70</td>\n",
       "      <td>144.96</td>\n",
       "      <td>129.29</td>\n",
       "    </tr>\n",
       "    <tr>\n",
       "      <th>6</th>\n",
       "      <td>HSBC Holdings PLC</td>\n",
       "      <td>148.90</td>\n",
       "      <td>119.12</td>\n",
       "      <td>138.48</td>\n",
       "      <td>123.51</td>\n",
       "    </tr>\n",
       "    <tr>\n",
       "      <th>7</th>\n",
       "      <td>Morgan Stanley</td>\n",
       "      <td>140.83</td>\n",
       "      <td>112.66</td>\n",
       "      <td>130.97</td>\n",
       "      <td>116.82</td>\n",
       "    </tr>\n",
       "    <tr>\n",
       "      <th>8</th>\n",
       "      <td>China Construction Bank</td>\n",
       "      <td>139.82</td>\n",
       "      <td>111.86</td>\n",
       "      <td>130.03</td>\n",
       "      <td>115.98</td>\n",
       "    </tr>\n",
       "    <tr>\n",
       "      <th>9</th>\n",
       "      <td>Bank of China</td>\n",
       "      <td>136.81</td>\n",
       "      <td>109.45</td>\n",
       "      <td>127.23</td>\n",
       "      <td>113.48</td>\n",
       "    </tr>\n",
       "  </tbody>\n",
       "</table>\n",
       "</div>"
      ],
      "text/plain": [
       "                                      Name MC_USD_Billion  MC_GBP_Billion  \\\n",
       "0                           JPMorgan Chase         432.92          346.34   \n",
       "1                          Bank of America         231.52          185.22   \n",
       "2  Industrial and Commercial Bank of China         194.56          155.65   \n",
       "3               Agricultural Bank of China         160.68          128.54   \n",
       "4                                HDFC Bank         157.91          126.33   \n",
       "5                              Wells Fargo         155.87          124.70   \n",
       "6                        HSBC Holdings PLC         148.90          119.12   \n",
       "7                           Morgan Stanley         140.83          112.66   \n",
       "8                  China Construction Bank         139.82          111.86   \n",
       "9                            Bank of China         136.81          109.45   \n",
       "\n",
       "   MC_EUR_Billion  MC_INR_Billion  \n",
       "0          402.62          359.11  \n",
       "1          215.31          192.05  \n",
       "2          180.94          161.39  \n",
       "3          149.43          133.28  \n",
       "4          146.86          130.99  \n",
       "5          144.96          129.29  \n",
       "6          138.48          123.51  \n",
       "7          130.97          116.82  \n",
       "8          130.03          115.98  \n",
       "9          127.23          113.48  "
      ]
     },
     "execution_count": 81,
     "metadata": {},
     "output_type": "execute_result"
    }
   ],
   "source": [
    "transform(df)"
   ]
  },
  {
   "cell_type": "code",
   "execution_count": 92,
   "id": "4efc1f5a",
   "metadata": {},
   "outputs": [],
   "source": [
    "def load_to_csv(df, csv_path):\n",
    "    df.to_csv(csv_path)\n",
    "def load_to_db(df,sql_connection,table_name):\n",
    "    df.to_sql(table_name, sql_connection, if_exists='replace', index=False)"
   ]
  },
  {
   "cell_type": "code",
   "execution_count": 83,
   "id": "821ee579",
   "metadata": {},
   "outputs": [],
   "source": [
    "def run_query(query_statement, sql_connection):\n",
    "    print(query_statement)\n",
    "    query_output = pd.read_sql(query_statement, sql_connection)\n",
    "    print(query_output)"
   ]
  },
  {
   "cell_type": "code",
   "execution_count": 84,
   "id": "ca1dfeb6",
   "metadata": {},
   "outputs": [],
   "source": [
    "def log_progress(message): \n",
    "    timestamp_format = '%Y-%h-%d-%H:%M:%S' # Year-Monthname-Day-Hour-Minute-Second \n",
    "    now = datetime.now() # get current timestamp \n",
    "    timestamp = now.strftime(timestamp_format) \n",
    "    with open(\"./etl_project_log.txt\",\"a\") as f: \n",
    "        f.write(timestamp + ' : ' + message + '\\n')"
   ]
  },
  {
   "cell_type": "code",
   "execution_count": 90,
   "id": "f0b42a35",
   "metadata": {},
   "outputs": [
    {
     "name": "stdout",
     "output_type": "stream",
     "text": [
      "SELECT AVG(MC_GBP_Billion) FROM Largest_banks\n",
      "   AVG(MC_GBP_Billion)\n",
      "0              151.987\n",
      "SELECT name FROM Largest_banks\n",
      "                                      Name\n",
      "0                           JPMorgan Chase\n",
      "1                          Bank of America\n",
      "2  Industrial and Commercial Bank of China\n",
      "3               Agricultural Bank of China\n",
      "4                                HDFC Bank\n",
      "5                              Wells Fargo\n",
      "6                        HSBC Holdings PLC\n",
      "7                           Morgan Stanley\n",
      "8                  China Construction Bank\n",
      "9                            Bank of China\n",
      "SELECT * FROM Largest_banks\n",
      "                                      Name MC_USD_Billion  MC_GBP_Billion  \\\n",
      "0                           JPMorgan Chase         432.92          346.34   \n",
      "1                          Bank of America         231.52          185.22   \n",
      "2  Industrial and Commercial Bank of China         194.56          155.65   \n",
      "3               Agricultural Bank of China         160.68          128.54   \n",
      "4                                HDFC Bank         157.91          126.33   \n",
      "5                              Wells Fargo         155.87          124.70   \n",
      "6                        HSBC Holdings PLC         148.90          119.12   \n",
      "7                           Morgan Stanley         140.83          112.66   \n",
      "8                  China Construction Bank         139.82          111.86   \n",
      "9                            Bank of China         136.81          109.45   \n",
      "\n",
      "   MC_EUR_Billion  MC_INR_Billion  \n",
      "0          402.62          359.11  \n",
      "1          215.31          192.05  \n",
      "2          180.94          161.39  \n",
      "3          149.43          133.28  \n",
      "4          146.86          130.99  \n",
      "5          144.96          129.29  \n",
      "6          138.48          123.51  \n",
      "7          130.97          116.82  \n",
      "8          130.03          115.98  \n",
      "9          127.23          113.48  \n"
     ]
    }
   ],
   "source": [
    "log_progress('Preliminaries complete. Initiating ETL process')\n",
    "df = extract(url, table_Attributes)\n",
    "log_progress('Data extraction complete. Initiating Transformation process')\n",
    "df =transform(df)\n",
    "log_progress('Data transformation complete. Initiating loading process')\n",
    "load_to_csv(df, csv_path)\n",
    "log_progress('Data saved to CSV file')\n",
    "sql_connection = sqlite3.connect('World_Economies.db')\n",
    "log_progress('SQL Connection initiated.')\n",
    "load_to_db(df, sql_connection, table_name)\n",
    "log_progress('Data loaded to Database as table. Running the query')\n",
    "query_statement = f\"SELECT AVG(MC_GBP_Billion) FROM {table_name}\"\n",
    "run_query(query_statement, sql_connection)\n",
    "query_statement1 = f\"SELECT name FROM {table_name}\"\n",
    "run_query(query_statement1, sql_connection)\n",
    "query_statement2 = f\"SELECT * FROM {table_name}\"\n",
    "run_query(query_statement2, sql_connection)\n",
    "log_progress('Process Complete.')\n",
    "sql_connection.close()\n",
    "\n"
   ]
  }
 ],
 "metadata": {
  "kernelspec": {
   "display_name": "Python 3",
   "language": "python",
   "name": "python3"
  },
  "language_info": {
   "codemirror_mode": {
    "name": "ipython",
    "version": 3
   },
   "file_extension": ".py",
   "mimetype": "text/x-python",
   "name": "python",
   "nbconvert_exporter": "python",
   "pygments_lexer": "ipython3",
   "version": "3.13.6"
  }
 },
 "nbformat": 4,
 "nbformat_minor": 5
}
